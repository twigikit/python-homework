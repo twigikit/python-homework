{
 "cells": [
  {
   "cell_type": "code",
   "execution_count": 1,
   "id": "4d0cec67-248f-4755-8c8a-8375204407c7",
   "metadata": {},
   "outputs": [],
   "source": [
    "#From the pathlib library, import the main class Path\n",
    "from pathlib import Path\n",
    "\n",
    "#Import csv library\n",
    "import csv "
   ]
  },
  {
   "cell_type": "code",
   "execution_count": 2,
   "id": "be853fdf-6272-4bfb-8c3a-06c27ae6c7c7",
   "metadata": {},
   "outputs": [
    {
     "data": {
      "text/plain": [
       "WindowsPath('C:/Users/twigi/FT_BootCamp/W2_Assignment/python-homework/PyBank')"
      ]
     },
     "execution_count": 2,
     "metadata": {},
     "output_type": "execute_result"
    }
   ],
   "source": [
    "#Check the current directory where the Python program is executing from\n",
    "Path.cwd()"
   ]
  },
  {
   "cell_type": "code",
   "execution_count": 3,
   "id": "7ab2189a-66d6-4abf-92d6-64b1111ccb94",
   "metadata": {},
   "outputs": [],
   "source": [
    "#Set the path using pathlib\n",
    "csvpath = Path(\"../python-homework/PyBank/\")"
   ]
  },
  {
   "cell_type": "code",
   "execution_count": 4,
   "id": "455dfaf8-7424-4131-a9d7-d9d4abacf603",
   "metadata": {},
   "outputs": [],
   "source": [
    "#Initialise list and dictionary to hold profit/losses and changes\n",
    "pnl_list=[]\n",
    "bud_list=[]\n",
    "chg_dict ={}"
   ]
  },
  {
   "cell_type": "code",
   "execution_count": 5,
   "id": "3ede5724-6bf6-4504-95cb-aeaec09227be",
   "metadata": {},
   "outputs": [],
   "source": [
    "#Open the input path as a file object in read mode\n",
    "with open ('budget_data.csv', 'r') as csvfile:\n",
    "       \n",
    "    #Pass in the csv file to the csv.reader() function\n",
    "    #with ','as the delimiter) and return the csvreader object\n",
    "    csvreader = csv.reader(csvfile, delimiter=',')\n",
    "   \n",
    "    #skip reading the first line (i.e header)\n",
    "    next (csvfile)\n",
    "    \n",
    "    #Create a nested list\n",
    "    for row in csvreader:\n",
    "        #print(row[0],int(row[1])) #Or print(','.join(row))\n",
    "        pnl_list = [row[0], int(row[1])] \n",
    "        bud_list.append (pnl_list)"
   ]
  },
  {
   "cell_type": "code",
   "execution_count": 6,
   "id": "eafe35df-427a-45b0-9788-530e2ec54d26",
   "metadata": {},
   "outputs": [],
   "source": [
    "#Populate the monthly changes in profit/losses in dictionary with Date as key\n",
    "for i in range(len(bud_list)-1):\n",
    "    chg = bud_list[i+1][1] - bud_list[i][1]\n",
    "    chg_dict [bud_list[i+1][0]] = chg\n",
    "    i += 1 "
   ]
  },
  {
   "cell_type": "code",
   "execution_count": 7,
   "id": "c04a4bf6-e6e1-49e4-9d74-c2ce1a43e79a",
   "metadata": {},
   "outputs": [],
   "source": [
    "#Initialise metrics variables\n",
    "tot_mth = 0\n",
    "tot_pnl = 0\n",
    "avg_chg = 0\n",
    "max_chg_pnl = 0\n",
    "min_chg_pnl = 0"
   ]
  },
  {
   "cell_type": "code",
   "execution_count": 8,
   "id": "9a587bb6-a5b4-4198-ad0d-49120c8733dc",
   "metadata": {},
   "outputs": [
    {
     "name": "stdout",
     "output_type": "stream",
     "text": [
      "Total Months: 86\n"
     ]
    }
   ],
   "source": [
    "#calculate the total number of months included in the dataset\n",
    "tot_mth = len(bud_list)\n",
    "output_tot_mth = f\"Total Months: {tot_mth}\"\n",
    "print(output_tot_mth)"
   ]
  },
  {
   "cell_type": "code",
   "execution_count": 9,
   "id": "b7a6cdc6-1791-48e6-b678-02c4e483e54d",
   "metadata": {},
   "outputs": [
    {
     "name": "stdout",
     "output_type": "stream",
     "text": [
      "Total: $38382578\n"
     ]
    }
   ],
   "source": [
    "#initialise a list to store profit/losses\n",
    "acc_pnl =[]\n",
    "\n",
    "for j in range(len(bud_list)):\n",
    "    mth_pnl= (bud_list[j][1])\n",
    "    acc_pnl.append(mth_pnl)\n",
    "\n",
    "tot_pnl = sum(acc_pnl)\n",
    "output_tot_pnl =f\"Total: ${tot_pnl}\"\n",
    "print(output_tot_pnl)"
   ]
  },
  {
   "cell_type": "code",
   "execution_count": 10,
   "id": "a24352b0-0111-4f75-a1e7-66e476529380",
   "metadata": {},
   "outputs": [
    {
     "name": "stdout",
     "output_type": "stream",
     "text": [
      "Average Change: $-2315.12\n"
     ]
    }
   ],
   "source": [
    "#Calculate the average changes in profit/losses over the entire period\n",
    "#round to 2 decimal places\n",
    "tot_chg = sum(chg_dict.values())\n",
    "num_chg = len(chg_dict)\n",
    "avg_chg = round(tot_chg / num_chg,2)\n",
    "output_avg_chg = f\"Average Change: ${avg_chg}\"\n",
    "print(output_avg_chg)"
   ]
  },
  {
   "cell_type": "code",
   "execution_count": 11,
   "id": "b816ebbb-6dca-4c0a-aab9-c18ca64f844b",
   "metadata": {},
   "outputs": [
    {
     "name": "stdout",
     "output_type": "stream",
     "text": [
      "Greatest Increase in Profits:Feb-2012 ($1926159)\n",
      "Greatest Decrease in Profits:Sep-2013 ($-2196167)\n"
     ]
    }
   ],
   "source": [
    "#Calculate the greatest increase, decrease in profits\n",
    "max_chg_pnl = max(chg_dict.values())\n",
    "max_chg_mth = max(chg_dict, key= chg_dict.get)\n",
    "\n",
    "min_chg_pnl = min(chg_dict.values())\n",
    "min_chg_mth = min(chg_dict, key= chg_dict.get)\n",
    "\n",
    "output_max_chg = f\"Greatest Increase in Profits:{max_chg_mth} (${max_chg_pnl})\"\n",
    "output_min_chg = f\"Greatest Decrease in Profits:{min_chg_mth} (${min_chg_pnl})\"\n",
    "\n",
    "print(output_max_chg)\n",
    "print(output_min_chg)"
   ]
  },
  {
   "cell_type": "code",
   "execution_count": 12,
   "id": "50ab013d-87b4-4607-a535-96daadfc94f8",
   "metadata": {},
   "outputs": [],
   "source": [
    "#Create a list of results to print\n",
    "results = [output_tot_mth,\n",
    "           output_tot_pnl,\n",
    "           output_avg_chg,\n",
    "           output_max_chg,\n",
    "           output_min_chg]"
   ]
  },
  {
   "cell_type": "code",
   "execution_count": 13,
   "id": "582289e0-b6f8-42c1-8426-9eabf865fcc4",
   "metadata": {},
   "outputs": [
    {
     "name": "stdout",
     "output_type": "stream",
     "text": [
      "Done\n"
     ]
    }
   ],
   "source": [
    "#NB: if output.txt is not in the same relative path defined above, need to add a step to define output path.\n",
    "\n",
    "#Open the output path as file object in write mode\n",
    "with open ('output.txt', 'w') as file:\n",
    "    file.write(\"Financial Analysis\\n\")\n",
    "    file.write(\"--------------------------------------------------\\n\")   \n",
    "    \n",
    "    for m in results:\n",
    "        file.write(f\"{m}\\n\")\n",
    "    print('Done')"
   ]
  }
 ],
 "metadata": {
  "kernelspec": {
   "display_name": "Python 3 (ipykernel)",
   "language": "python",
   "name": "python3"
  },
  "language_info": {
   "codemirror_mode": {
    "name": "ipython",
    "version": 3
   },
   "file_extension": ".py",
   "mimetype": "text/x-python",
   "name": "python",
   "nbconvert_exporter": "python",
   "pygments_lexer": "ipython3",
   "version": "3.9.12"
  }
 },
 "nbformat": 4,
 "nbformat_minor": 5
}
