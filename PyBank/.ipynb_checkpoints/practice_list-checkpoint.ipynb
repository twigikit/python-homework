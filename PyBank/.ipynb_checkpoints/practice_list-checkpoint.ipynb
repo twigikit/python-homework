{
 "cells": [
  {
   "cell_type": "code",
   "execution_count": 7,
   "id": "4d0cec67-248f-4755-8c8a-8375204407c7",
   "metadata": {},
   "outputs": [],
   "source": [
    "#From the pathlib library, import the main class Path\n",
    "from pathlib import Path\n",
    "\n",
    "#Import csv library\n",
    "import csv "
   ]
  },
  {
   "cell_type": "code",
   "execution_count": 8,
   "id": "be853fdf-6272-4bfb-8c3a-06c27ae6c7c7",
   "metadata": {},
   "outputs": [
    {
     "data": {
      "text/plain": [
       "WindowsPath('C:/Users/twigi/FT_BootCamp/W2_Assignment/python-homework/PyBank')"
      ]
     },
     "execution_count": 8,
     "metadata": {},
     "output_type": "execute_result"
    }
   ],
   "source": [
    "#Check the current directory where the Python program is executing from\n",
    "Path.cwd()"
   ]
  },
  {
   "cell_type": "code",
   "execution_count": 14,
   "id": "7ab2189a-66d6-4abf-92d6-64b1111ccb94",
   "metadata": {},
   "outputs": [],
   "source": [
    "#Set the path using pathlib\n",
    "csvpath = Path(\"../python-homework/PyBank/\")"
   ]
  },
  {
   "cell_type": "code",
   "execution_count": 78,
   "id": "455dfaf8-7424-4131-a9d7-d9d4abacf603",
   "metadata": {},
   "outputs": [],
   "source": [
    "#Initialise variables to hold date and profit/losses separately\n",
    "d_date = []\n",
    "d_pnl = []\n",
    "d_chg = []"
   ]
  },
  {
   "cell_type": "code",
   "execution_count": 79,
   "id": "3ede5724-6bf6-4504-95cb-aeaec09227be",
   "metadata": {},
   "outputs": [],
   "source": [
    "#Open the input path as a file object\n",
    "with open ('budget_data.csv', 'r') as csvfile:\n",
    "       \n",
    "    #Pass in the csv file to the csv.reader() function\n",
    "    #with ','as the delimiter) and return the csvreader object\n",
    "    csvreader = csv.reader(csvfile, delimiter=',')\n",
    "   \n",
    "    #skip reading the first line (i.e header)\n",
    "    next (csvfile)\n",
    "    \n",
    "    #Print the row\n",
    "    for row in csvreader:\n",
    "        #print(row[1]) #Or print(','.join(row))\n",
    "        \n",
    "        #Set Profit/losses variable equal to the 2nd column of each row\n",
    "         num_pnl = int(row[1])\n",
    "        \n",
    "        #Append the row profit/losses value to the list of d_pnl\n",
    "         d_pnl.append(num_pnl)\n",
    "         d_date.append(row[0])"
   ]
  },
  {
   "cell_type": "code",
   "execution_count": 94,
   "id": "64af9469-6d71-4f17-a3f4-c8df7484b294",
   "metadata": {},
   "outputs": [],
   "source": [
    "#initialise metric variables\n",
    "num_mth = 0\n",
    "tot_pnl = 0\n",
    "mth_chg = 0\n",
    "tot_chg = 0\n",
    "num_chg = 0\n",
    "avg_chg = 0\n",
    "max_chg = 0\n",
    "min_chg = 0"
   ]
  },
  {
   "cell_type": "code",
   "execution_count": 47,
   "id": "d57be2ba-79d9-4319-a6b9-4ea9ff9dbcb2",
   "metadata": {},
   "outputs": [
    {
     "name": "stdout",
     "output_type": "stream",
     "text": [
      "Total Months: 86\n"
     ]
    }
   ],
   "source": [
    "#calculate the total number of months included in the dataset\n",
    "num_mth = len(d_date)\n",
    "print(f\"Total Months: {num_mth}\")"
   ]
  },
  {
   "cell_type": "code",
   "execution_count": 93,
   "id": "03100c4a-62c2-4b98-9ef9-b4c165f7da62",
   "metadata": {},
   "outputs": [
    {
     "name": "stdout",
     "output_type": "stream",
     "text": [
      "Total: $38382578\n"
     ]
    }
   ],
   "source": [
    "#calculate the net total amount of profit/losses over the entire period\n",
    "tot_pnl = sum(d_pnl) \n",
    "print(f\"Total: ${tot_pnl}\")"
   ]
  },
  {
   "cell_type": "code",
   "execution_count": 84,
   "id": "506e0c11-6087-45a7-a718-9264fac2056c",
   "metadata": {},
   "outputs": [],
   "source": [
    "#Calculate each period change in profit/losses\n",
    "for x in range(len(d_pnl)-1):\n",
    "    mth_chg = d_pnl[x+1] - d_pnl[x]\n",
    "    d_chg.append(mth_chg)\n",
    "    x += 1"
   ]
  },
  {
   "cell_type": "code",
   "execution_count": 95,
   "id": "4db6e365-13d6-450b-9b17-6f6b0b3c4b79",
   "metadata": {},
   "outputs": [
    {
     "name": "stdout",
     "output_type": "stream",
     "text": [
      "Average Change: $-2315.12\n"
     ]
    }
   ],
   "source": [
    "#Calculate the average changes in profit/losses over the entire period\n",
    "#round to 2 decimal places\n",
    "tot_chg = sum(d_chg) #calculate total changes\n",
    "num_chg = len(d_chg) #count number of changes\n",
    "avg_chg = round(tot_chg/num_chg,2)\n",
    "print(f\"Average Change: ${avg_chg}\")"
   ]
  },
  {
   "cell_type": "code",
   "execution_count": 98,
   "id": "71eac5b3-958c-4b6c-b465-3b875721fb8b",
   "metadata": {},
   "outputs": [
    {
     "name": "stdout",
     "output_type": "stream",
     "text": [
      "Greatest Increase in Profits: ($1926159)\n",
      "Greatest Decrease in Profits: ($-2196167)\n"
     ]
    }
   ],
   "source": [
    "#Caclulate the greatest increase, decrease in profits\n",
    "for mth_chg in d_chg:\n",
    "    \n",
    "    #logic to determine min and max changes in profit\n",
    "    if min_chg == 0:\n",
    "        min_chg = mth_chg\n",
    "    elif mth_chg > max_chg:\n",
    "        max_chg = mth_chg\n",
    "    elif mth_chg < min_chg:\n",
    "        min_chg = mth_chg\n",
    "\n",
    "print (f\"Greatest Increase in Profits: (${max_chg})\")\n",
    "print (f\"Greatest Decrease in Profits: (${min_chg})\")"
   ]
  }
 ],
 "metadata": {
  "kernelspec": {
   "display_name": "Python 3 (ipykernel)",
   "language": "python",
   "name": "python3"
  },
  "language_info": {
   "codemirror_mode": {
    "name": "ipython",
    "version": 3
   },
   "file_extension": ".py",
   "mimetype": "text/x-python",
   "name": "python",
   "nbconvert_exporter": "python",
   "pygments_lexer": "ipython3",
   "version": "3.9.12"
  }
 },
 "nbformat": 4,
 "nbformat_minor": 5
}
