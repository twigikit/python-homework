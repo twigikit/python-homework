{
 "cells": [
  {
   "cell_type": "code",
   "execution_count": 1,
   "id": "e28ac1e9-1c9f-4a3c-8d53-78b6a32518b4",
   "metadata": {},
   "outputs": [],
   "source": [
    "#From the pathlib library and csv library\n",
    "from pathlib import Path\n",
    "import csv"
   ]
  },
  {
   "cell_type": "code",
   "execution_count": 2,
   "id": "5a01cb40-3749-4ce6-8933-39b2c74540d4",
   "metadata": {},
   "outputs": [
    {
     "data": {
      "text/plain": [
       ""
      ]
     },
     "execution_count": 2,
     "metadata": {},
     "output_type": "execute_result"
    }
   ],
   "source": [
    "#check the current working directory\n",
    "Path.cwd()"
   ]
  },
  {
   "cell_type": "code",
   "execution_count": 3,
   "id": "1e2ae4f7-eb5e-460d-9723-ca4cd3cc8460",
   "metadata": {},
   "outputs": [],
   "source": [
    "#Set the path using pathlib\n",
    "csvpath = Path(\"..'/python-homework/PyRamen\")"
   ]
  },
  {
   "cell_type": "code",
   "execution_count": 4,
   "id": "86243712-5131-497d-bbf2-a0bd0edb8717",
   "metadata": {},
   "outputs": [],
   "source": [
    "#Initialise list to hold contents of menu_data.csv\n",
    "menu = []\n",
    "sales= []"
   ]
  },
  {
   "cell_type": "code",
   "execution_count": 5,
   "id": "6ac10f5f-4051-4c8b-8c8e-9351a695f879",
   "metadata": {},
   "outputs": [],
   "source": [
    "#Open the input path as a file object in read mode\n",
    "#read menu_data.csv\n",
    "with open ('menu_data.csv','r') as menu_csvfile:\n",
    "    \n",
    "    #Pass in the csv file to the csv.reader () function\n",
    "    #with \",\"as the delimiter and return the csvreader object\n",
    "    menu_csvreader = csv.reader(menu_csvfile,delimiter=\",\")\n",
    "    \n",
    "    #skip reading the first line (header)\n",
    "    next(menu_csvfile)\n",
    "    \n",
    "    #populate the menu_data row by row into menu\n",
    "    for row in menu_csvreader:\n",
    "        #print(row)\n",
    "        \n",
    "        #append each row from menu_data.csv into menu list\n",
    "        int_menu =[row[0],row[1],float(row[3]),int(row[4])]\n",
    "        menu.append(int_menu)"
   ]
  },
  {
   "cell_type": "code",
   "execution_count": 6,
   "id": "e8fd14fd-a62b-4ab9-b047-dfcc24eb8e1f",
   "metadata": {},
   "outputs": [],
   "source": [
    "#Open the input path as a file object in read mode\n",
    "#read sales_data.csv\n",
    "with open ('sales_data.csv', 'r') as sales_csvfile:\n",
    "    \n",
    "    #Pass in the csv file to the csv.reader () function\n",
    "    #with \",\"as the delimiter and return the csvreader object\n",
    "    sales_csvreader = csv.reader(sales_csvfile,delimiter=\",\")\n",
    "    \n",
    "    #skip reading the first line (header)\n",
    "    next(sales_csvfile)\n",
    "    \n",
    "     #populate the menu_data row by row into menu\n",
    "    for row in sales_csvreader:\n",
    "        #print(len(row))\n",
    "        \n",
    "        #append each row from sales_data.csv into sales list\n",
    "        int_sales =[row[1],int(row[3]),row[4]]\n",
    "        sales.append(int_sales)"
   ]
  },
  {
   "cell_type": "code",
   "execution_count": 7,
   "id": "02cf5d39-a71e-4158-bdc6-031ca01cb18f",
   "metadata": {},
   "outputs": [],
   "source": [
    "#Initialise dictionary to hold the future aggregatred pre-product details\n",
    "report = {}\n",
    "report['sales_item']= {\"01-count\":0,\n",
    "                       \"02-revenue\":0,\n",
    "                       \"03-cogs\":0,\n",
    "                       \"04-profit\":0,\n",
    "                      }"
   ]
  },
  {
   "cell_type": "code",
   "execution_count": 8,
   "id": "45174b40-938a-49d9-b63e-ece23b802199",
   "metadata": {},
   "outputs": [],
   "source": [
    "for i in range(len(menu)):\n",
    "    \n",
    "    # for each item in the menu, get cost, price and calculate profit\n",
    "    menu_item = menu[i][0]\n",
    "    cost  = menu[i][2]    \n",
    "    price = menu[i][3]\n",
    "    profit = price - cost\n",
    "    \n",
    "    #loop through sales data to get total sales, calculate total revenue, total cost and total profit\n",
    "    for j in range(len(sales)):\n",
    "        \n",
    "        sold_cnt = sales[j][1]\n",
    "        sold_item = sales[j][2]\n",
    "        \n",
    "        #if current menu item is not in the sales data, move to the next item\n",
    "        if sold_item != menu_item:\n",
    "            continue\n",
    "        elif sold_item in report.keys():\n",
    "            report[sold_item][\"01-count\"] += sold_cnt\n",
    "            quant = report[sold_item][\"01-count\"]\n",
    "            \n",
    "            report[sold_item][\"02-revenue\"] += quant*price\n",
    "            report[sold_item][\"03-cogs\"] += quant*cost\n",
    "            report[sold_item][\"04-profit\"] += quant*profit\n",
    "        else:\n",
    "            report.update({sold_item:{\"01-count\":sold_cnt,\n",
    "                                      \"02-revenue\": sold_cnt*price,\n",
    "                                      \"03-cogs\": sold_cnt*cost,\n",
    "                                      \"04-profit\": sold_cnt*profit\n",
    "                                      }\n",
    "                          })    "
   ]
  },
  {
   "cell_type": "code",
   "execution_count": 9,
   "id": "3259e990-b9e0-44d0-b6d5-b8b6b10d576c",
   "metadata": {},
   "outputs": [
    {
     "name": "stdout",
     "output_type": "stream",
     "text": [
      "{'nagomi shoyu': {'01-count': 9132, '02-revenue': 152449910, '03-cogs': 335389802.0, '04-profit': -182939892.0}, 'shio ramen': {'01-count': 9180, '02-revenue': 154073470, '03-cogs': 338961634.0, '04-profit': -184888164.0}, 'spicy miso ramen': {'01-count': 9238, '02-revenue': 157255385, '03-cogs': 377412924.0, '04-profit': -220157539.0}, 'vegetarian spicy miso': {'01-count': 9216, '02-revenue': 158053540, '03-cogs': 379328496.0, '04-profit': -221274956.0}, 'miso crab ramen': {'01-count': 8890, '02-revenue': 175413354, '03-cogs': 350826708.0, '04-profit': -175413354.0}, 'soft-shell miso crab ramen': {'01-count': 9130, '02-revenue': 216631737, '03-cogs': 433263474.0, '04-profit': -216631737.0}, 'tori paitan ramen': {'01-count': 9156, '02-revenue': 187942428, '03-cogs': 407208594.0, '04-profit': -219266166.0}, 'tonkotsu ramen': {'01-count': 9288, '02-revenue': 189228288, '03-cogs': 409994624.0, '04-profit': -220766336.0}, 'burnt garlic tonkotsu ramen': {'01-count': 9070, '02-revenue': 185223078, '03-cogs': 432187182.0, '04-profit': -246964104.0}, 'vegetarian curry + king trumpet mushroom ramen': {'01-count': 8824, '02-revenue': 205038064, '03-cogs': 380784976.0, '04-profit': -175746912.0}, 'truffle butter ramen': {'01-count': 8982, '02-revenue': 211673511, '03-cogs': 423347022.0, '04-profit': -211673511.0}}\n"
     ]
    }
   ],
   "source": [
    "#remove the dummy key sale item\n",
    "del report['sales_item']\n",
    "\n",
    "print(report)\n",
    "\n",
    "# ramentype is not in the same order as model answer\n",
    "#because model answer first loop sales data than menu data."
   ]
  },
  {
   "cell_type": "code",
   "execution_count": 10,
   "id": "b993e3dd-11d7-46ff-a81d-26770f9cfb98",
   "metadata": {},
   "outputs": [],
   "source": [
    "#Initialise a list to hold ramentype and result to print\n",
    "output=[]\n",
    "\n",
    "for x in report:\n",
    "    to_print =(f\"{x} {report[x]}\")\n",
    "    output.append(to_print)"
   ]
  },
  {
   "cell_type": "code",
   "execution_count": 11,
   "id": "0509025f-5d7f-4d9b-8f67-6828c9d4b03b",
   "metadata": {},
   "outputs": [
    {
     "name": "stdout",
     "output_type": "stream",
     "text": [
      "Done\n"
     ]
    }
   ],
   "source": [
    "#Open the output file in write mode\n",
    "with open('output.txt','w') as file:\n",
    "\n",
    "    #Write results to the file\n",
    "    for m in output:\n",
    "        file.write(f\"{m}\\n\")\n",
    "    print('Done')"
   ]
  },
  {
   "cell_type": "code",
   "execution_count": null,
   "id": "68c5078a-8480-49af-ba07-ea0c8a3c2a3b",
   "metadata": {},
   "outputs": [],
   "source": []
  }
 ],
 "metadata": {
  "kernelspec": {
   "display_name": "Python 3 (ipykernel)",
   "language": "python",
   "name": "python3"
  },
  "language_info": {
   "codemirror_mode": {
    "name": "ipython",
    "version": 3
   },
   "file_extension": ".py",
   "mimetype": "text/x-python",
   "name": "python",
   "nbconvert_exporter": "python",
   "pygments_lexer": "ipython3",
   "version": "3.9.12"
  }
 },
 "nbformat": 4,
 "nbformat_minor": 5
}
