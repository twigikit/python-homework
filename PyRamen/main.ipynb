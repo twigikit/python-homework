{
 "cells": [
  {
   "cell_type": "code",
   "execution_count": 1,
   "id": "e28ac1e9-1c9f-4a3c-8d53-78b6a32518b4",
   "metadata": {},
   "outputs": [],
   "source": [
    "#From the pathlib library and csv library\n",
    "from pathlib import Path\n",
    "import csv"
   ]
  },
  {
   "cell_type": "code",
   "execution_count": 2,
   "id": "5a01cb40-3749-4ce6-8933-39b2c74540d4",
   "metadata": {},
   "outputs": [
    {
     "data": {
      "text/plain": [
       "WindowsPath('C:/Users/twigi/FT_BootCamp/W2_Assignment/python-homework/PyRamen')"
      ]
     },
     "execution_count": 2,
     "metadata": {},
     "output_type": "execute_result"
    }
   ],
   "source": [
    "#check the current working directory\n",
    "Path.cwd()"
   ]
  },
  {
   "cell_type": "code",
   "execution_count": 3,
   "id": "1e2ae4f7-eb5e-460d-9723-ca4cd3cc8460",
   "metadata": {},
   "outputs": [],
   "source": [
    "#Set the path using pathlib\n",
    "csvpath = Path(\"..'/python-homework/PyRamen\")"
   ]
  },
  {
   "cell_type": "code",
   "execution_count": 4,
   "id": "86243712-5131-497d-bbf2-a0bd0edb8717",
   "metadata": {},
   "outputs": [],
   "source": [
    "#Initialise list to hold contents of menu_data.csv\n",
    "menu = []\n",
    "sales= []"
   ]
  },
  {
   "cell_type": "code",
   "execution_count": 5,
   "id": "6ac10f5f-4051-4c8b-8c8e-9351a695f879",
   "metadata": {},
   "outputs": [],
   "source": [
    "#Open the input path as a file object in read mode\n",
    "#read menu_data.csv\n",
    "with open ('menu_data.csv','r') as menu_csvfile:\n",
    "    \n",
    "    #Pass in the csv file to the csv.reader () function\n",
    "    #with \",\"as the delimiter and return the csvreader object\n",
    "    menu_csvreader = csv.reader(menu_csvfile,delimiter=\",\")\n",
    "    \n",
    "    #skip reading the first line (header)\n",
    "    next(menu_csvfile)\n",
    "    \n",
    "    #populate the menu_data row by row into menu\n",
    "    for row in menu_csvreader:\n",
    "        #print(row)\n",
    "        \n",
    "        #append each row from menu_data.csv into menu list\n",
    "        int_menu =[row[0],row[1],float(row[3]),int(row[4])]\n",
    "        menu.append(int_menu)"
   ]
  },
  {
   "cell_type": "code",
   "execution_count": 6,
   "id": "e8fd14fd-a62b-4ab9-b047-dfcc24eb8e1f",
   "metadata": {},
   "outputs": [],
   "source": [
    "#Open the input path as a file object in read mode\n",
    "#read sales_data.csv\n",
    "with open ('sales_data.csv', 'r') as sales_csvfile:\n",
    "    \n",
    "    #Pass in the csv file to the csv.reader () function\n",
    "    #with \",\"as the delimiter and return the csvreader object\n",
    "    sales_csvreader = csv.reader(sales_csvfile,delimiter=\",\")\n",
    "    \n",
    "    #skip reading the first line (header)\n",
    "    next(sales_csvfile)\n",
    "    \n",
    "     #populate the menu_data row by row into menu\n",
    "    for row in sales_csvreader:\n",
    "        #print(len(row))\n",
    "        \n",
    "        #append each row from sales_data.csv into sales list\n",
    "        int_sales =[row[1],int(row[3]),row[4]]\n",
    "        sales.append(int_sales)"
   ]
  },
  {
   "cell_type": "code",
   "execution_count": 7,
   "id": "02cf5d39-a71e-4158-bdc6-031ca01cb18f",
   "metadata": {},
   "outputs": [],
   "source": [
    "#Initialise dictionary to hold the future aggregatred pre-product details\n",
    "report = {}\n",
    "report['sales_item']= {\"01-count\":0,\n",
    "                       \"02-revenue\":0,\n",
    "                       \"03-cogs\":0,\n",
    "                       \"04-profit\":0,\n",
    "                      }"
   ]
  },
  {
   "cell_type": "code",
   "execution_count": 9,
   "id": "3259e990-b9e0-44d0-b6d5-b8b6b10d576c",
   "metadata": {},
   "outputs": [],
   "source": [
    "#remove the dummy key sale item\n",
    "del report['sales_item']\n",
    "#print(report)"
   ]
  },
  {
   "cell_type": "code",
   "execution_count": 10,
   "id": "b993e3dd-11d7-46ff-a81d-26770f9cfb98",
   "metadata": {},
   "outputs": [],
   "source": [
    "#Initialise a list to hold ramentype and result to print\n",
    "output=[]\n",
    "\n",
    "for x in report:\n",
    "    to_print =(f\"{x} {report[x]}\")\n",
    "    output.append(to_print)"
   ]
  },
  {
   "cell_type": "code",
   "execution_count": 11,
   "id": "0509025f-5d7f-4d9b-8f67-6828c9d4b03b",
   "metadata": {},
   "outputs": [
    {
     "name": "stdout",
     "output_type": "stream",
     "text": [
      "Done\n"
     ]
    }
   ],
   "source": [
    "#Open the output file in write mode\n",
    "#Write the header and contexts to the file\n",
    "with open('output.txt','w') as file:\n",
    "    file.write(\"Financial Analysis\\n\")\n",
    "    file.write(\"--------------------------------------------------\\n\")\n",
    "    \n",
    "    for m in output:\n",
    "        file.write(f\"{m}\\n\")\n",
    "    print('Done')"
   ]
  },
  {
   "cell_type": "code",
   "execution_count": null,
   "id": "03728bc7-a99f-4e18-b0ab-de5d6a58b559",
   "metadata": {},
   "outputs": [],
   "source": []
  }
 ],
 "metadata": {
  "kernelspec": {
   "display_name": "Python 3 (ipykernel)",
   "language": "python",
   "name": "python3"
  },
  "language_info": {
   "codemirror_mode": {
    "name": "ipython",
    "version": 3
   },
   "file_extension": ".py",
   "mimetype": "text/x-python",
   "name": "python",
   "nbconvert_exporter": "python",
   "pygments_lexer": "ipython3",
   "version": "3.9.12"
  }
 },
 "nbformat": 4,
 "nbformat_minor": 5
}
