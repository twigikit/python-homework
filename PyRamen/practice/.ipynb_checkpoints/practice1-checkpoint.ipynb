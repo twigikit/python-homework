{
 "cells": [
  {
   "cell_type": "code",
   "execution_count": 1,
   "id": "e28ac1e9-1c9f-4a3c-8d53-78b6a32518b4",
   "metadata": {},
   "outputs": [],
   "source": [
    "#From the pathlib library, import the main class Path\n",
    "from pathlib import Path\n",
    "\n",
    "#Import csv and numpy library\n",
    "import csv"
   ]
  },
  {
   "cell_type": "code",
   "execution_count": 2,
   "id": "5a01cb40-3749-4ce6-8933-39b2c74540d4",
   "metadata": {},
   "outputs": [
    {
     "data": {
      "text/plain": [
       "WindowsPath('C:/Users/twigi/FT_BootCamp/W2_Assignment/python-homework/PyRamen')"
      ]
     },
     "execution_count": 2,
     "metadata": {},
     "output_type": "execute_result"
    }
   ],
   "source": [
    "#check the current working directory\n",
    "Path.cwd()"
   ]
  },
  {
   "cell_type": "code",
   "execution_count": 3,
   "id": "1e2ae4f7-eb5e-460d-9723-ca4cd3cc8460",
   "metadata": {},
   "outputs": [],
   "source": [
    "#Set the path using pathlib\n",
    "csvpath = Path(\"..'/python-homework/PyRamen\")"
   ]
  },
  {
   "cell_type": "code",
   "execution_count": 4,
   "id": "86243712-5131-497d-bbf2-a0bd0edb8717",
   "metadata": {},
   "outputs": [],
   "source": [
    "#Initialise list to hold contents of menu_data.csv\n",
    "menu = []\n",
    "sales= []"
   ]
  },
  {
   "cell_type": "code",
   "execution_count": 5,
   "id": "6ac10f5f-4051-4c8b-8c8e-9351a695f879",
   "metadata": {},
   "outputs": [],
   "source": [
    "#Open the input path as a file object in read mode\n",
    "#read menu_data.csv\n",
    "with open ('menu_data.csv','r') as menu_csvfile:\n",
    "    \n",
    "    #Pass in the csv file to the csv.reader () function\n",
    "    #with \",\"as the delimiter and return the csvreader object\n",
    "    menu_csvreader = csv.reader(menu_csvfile,delimiter=\",\")\n",
    "    \n",
    "    #skip reading the first line (header)\n",
    "    next(menu_csvfile)\n",
    "    \n",
    "    #populate the menu_data row by row into menu\n",
    "    for row in menu_csvreader:\n",
    "        #print(row)\n",
    "        \n",
    "        #append each row from menu_data.csv into menu list\n",
    "        int_menu =[row[0],row[1],float(row[3]),int(row[4])]\n",
    "        menu.append(int_menu)"
   ]
  },
  {
   "cell_type": "code",
   "execution_count": 6,
   "id": "e8fd14fd-a62b-4ab9-b047-dfcc24eb8e1f",
   "metadata": {},
   "outputs": [],
   "source": [
    "#Open the input path as a file object in read mode\n",
    "#read sales_data.csv\n",
    "with open ('sales_data.csv', 'r') as sales_csvfile:\n",
    "    \n",
    "    #Pass in the csv file to the csv.reader () function\n",
    "    #with \",\"as the delimiter and return the csvreader object\n",
    "    sales_csvreader = csv.reader(sales_csvfile,delimiter=\",\")\n",
    "    \n",
    "    #skip reading the first line (header)\n",
    "    next(sales_csvfile)\n",
    "    \n",
    "     #populate the menu_data row by row into menu\n",
    "    for row in sales_csvreader:\n",
    "        #print(len(row))\n",
    "        \n",
    "        #append each row from sales_data.csv into sales list\n",
    "        int_sales =[row[1],int(row[3]),row[4]]\n",
    "        sales.append(int_sales)"
   ]
  },
  {
   "cell_type": "code",
   "execution_count": 7,
   "id": "02cf5d39-a71e-4158-bdc6-031ca01cb18f",
   "metadata": {},
   "outputs": [],
   "source": [
    "#Initialise dictionary to hold the future aggregatred pre-product details\n",
    "report = {}\n",
    "report['sales_item']= {\"01-count\":0,\n",
    "                       \"02-revenue\":0,\n",
    "                       \"03-cogs\":0,\n",
    "                       \"04-profit\":0,\n",
    "                      }"
   ]
  },
  {
   "cell_type": "code",
   "execution_count": 8,
   "id": "a54ecb11-b6f6-4f7a-b28e-1e8ae4c83857",
   "metadata": {},
   "outputs": [],
   "source": [
    "#loop through the sales data, sum salesvolume (stored as 01-count) grouped by sales item\n",
    "for i in range(len(sales)):\n",
    "    item = sales[i][2]  \n",
    "    \n",
    "    # if sales item is already a key in the dictionary, add to the total\n",
    "    # else add a new key\n",
    "    if item in report.keys():\n",
    "        report[item][\"01-count\"] += sales[i][1]\n",
    "    else:\n",
    "        report.update({item:{\"01-count\":sales[i][1]}})"
   ]
  },
  {
   "cell_type": "code",
   "execution_count": 9,
   "id": "cba64817-8194-4c00-830a-bace82fd1a86",
   "metadata": {},
   "outputs": [],
   "source": [
    "#loop through menu data\n",
    "for j in range(len(menu)):\n",
    "    menu_item = menu[j][0]\n",
    " \n",
    "    if menu_item in report.keys():\n",
    "        \n",
    "        price  = menu[j][2]\n",
    "        cost   = menu[j][3]\n",
    "        profit = price - cost\n",
    "        quant = report[menu_item][\"01-count\"]\n",
    "        \n",
    "        #calculate total revenue, cost and profit\n",
    "        report[menu_item][\"02-revenue\"] = price * quant\n",
    "        report[menu_item][\"03-cogs\"] = cost * quant\n",
    "        report[menu_item][\"04-revenue\"] = profit * quant\n",
    "    \n",
    "    else:\n",
    "        continue   "
   ]
  },
  {
   "cell_type": "code",
   "execution_count": 10,
   "id": "3259e990-b9e0-44d0-b6d5-b8b6b10d576c",
   "metadata": {},
   "outputs": [
    {
     "name": "stdout",
     "output_type": "stream",
     "text": [
      "{'spicy miso ramen': {'01-count': 9238, '02-revenue': 110856.0, '03-cogs': 46190, '04-revenue': 64666.0}, 'tori paitan ramen': {'01-count': 9156, '02-revenue': 119028.0, '03-cogs': 54936, '04-revenue': 64092.0}, 'truffle butter ramen': {'01-count': 8982, '02-revenue': 125748.0, '03-cogs': 62874, '04-revenue': 62874.0}, 'tonkotsu ramen': {'01-count': 9288, '02-revenue': 120744.0, '03-cogs': 55728, '04-revenue': 65016.0}, 'vegetarian spicy miso': {'01-count': 9216, '02-revenue': 110592.0, '03-cogs': 46080, '04-revenue': 64512.0}, 'shio ramen': {'01-count': 9180, '02-revenue': 100980.0, '03-cogs': 45900, '04-revenue': 55080.0}, 'miso crab ramen': {'01-count': 8890, '02-revenue': 106680.0, '03-cogs': 53340, '04-revenue': 53340.0}, 'nagomi shoyu': {'01-count': 9132, '02-revenue': 100452.0, '03-cogs': 45660, '04-revenue': 54792.0}, 'soft-shell miso crab ramen': {'01-count': 9130, '02-revenue': 127820.0, '03-cogs': 63910, '04-revenue': 63910.0}, 'burnt garlic tonkotsu ramen': {'01-count': 9070, '02-revenue': 126980.0, '03-cogs': 54420, '04-revenue': 72560.0}, 'vegetarian curry + king trumpet mushroom ramen': {'01-count': 8824, '02-revenue': 114712.0, '03-cogs': 61768, '04-revenue': 52944.0}}\n"
     ]
    }
   ],
   "source": [
    "#remove the dummy key sale item\n",
    "del report['sales_item']\n",
    "print(report)"
   ]
  },
  {
   "cell_type": "code",
   "execution_count": null,
   "id": "21a7fdff-077d-452d-a37a-804cf794a0b1",
   "metadata": {},
   "outputs": [],
   "source": []
  }
 ],
 "metadata": {
  "kernelspec": {
   "display_name": "Python 3 (ipykernel)",
   "language": "python",
   "name": "python3"
  },
  "language_info": {
   "codemirror_mode": {
    "name": "ipython",
    "version": 3
   },
   "file_extension": ".py",
   "mimetype": "text/x-python",
   "name": "python",
   "nbconvert_exporter": "python",
   "pygments_lexer": "ipython3",
   "version": "3.9.12"
  }
 },
 "nbformat": 4,
 "nbformat_minor": 5
}
